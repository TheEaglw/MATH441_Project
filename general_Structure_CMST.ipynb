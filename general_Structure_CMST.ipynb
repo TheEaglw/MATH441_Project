{
 "cells": [
  {
   "cell_type": "code",
   "execution_count": null,
   "id": "6655b50d-eeef-406d-ae1e-3110bc27907d",
   "metadata": {},
   "outputs": [],
   "source": [
    "# Given sets V, V+, d, and given adjacency matrix and edge weight matrix and capacity constraint K\n",
    "\n",
    "\n",
    "# For the set V and V+, we can make it a list of numbers from 0 to n-1 and 1 to n-1, with n being the number of \n",
    "# rows in the adjacency matrix\n",
    "# example: V= [0,1,2,3,4,5,6, ..., n-1] and V+ = [1,2,3,4,5,6, ..., n-1].\n",
    "\n",
    "\n",
    "# For the objective function, it is the sum of all edges in the adjacency matrix E multiplied by their associated weights\n",
    "# in matrix C\n",
    "# example: E = np.array [[0,1,0,1,1,0,0],[0,0,1,0,1 ...]...], C = np.array[[0,5,4,2,6,3,...], [0,0,6,7,3,2,8,...], ...]\n",
    "# obj.fn = lpsum(C[i,j] * E[i,j] for i in V and j in V+)\n",
    "\n",
    "\n",
    "\n",
    "# For the first constraint, we want the sum of all elements in each column of E, except column 0, to be equal to 1\n",
    "# i.e. the sum of all elements in a column j must equal 1 for all j in V+\n",
    "\n",
    "\n",
    "# For the second constraint, we let d be a list of integers of size |V+|, with the entries being the demands of each node\n",
    "# d = [4,7,2,3,4,9,...]\n",
    "\n",
    "# To get the number of subtrees in the graph, we take the sum of all \"gates\"(edges connecting the root node to another\n",
    "# node). Thus, we would take the sum of all elements in the root node row of the adjacency matrix.\n",
    "# example: if the row for v0 = [0,1,1,0,0,0,1,0,...], we would sum the elements n_s = (0+1+1+0+0+0+1+0+...)\n",
    "\n",
    "# Now, we want to sum all elements in d and divide that sum by the capacity constraint K. Afterwards, we apply the\n",
    "# the ceiling fn to this expression in order to get the minimum number of subtrees necessary to satisfy the capacity \n",
    "# constraint.\n",
    "\n",
    "# the second constraint would be the number of subtrees >= the minimium number of subtrees necessary for K\n",
    "# example: n_s >= min_s_K\n",
    "\n",
    "\n",
    "# The final constraint is to have the variables have a lower bound of 0\n",
    "# xij  = pulp.LpVariable(\"xj\",lowBound=0) for all xij.\n"
   ]
  }
 ],
 "metadata": {
  "kernelspec": {
   "display_name": "Python 3 (ipykernel)",
   "language": "python",
   "name": "python3"
  },
  "language_info": {
   "codemirror_mode": {
    "name": "ipython",
    "version": 3
   },
   "file_extension": ".py",
   "mimetype": "text/x-python",
   "name": "python",
   "nbconvert_exporter": "python",
   "pygments_lexer": "ipython3",
   "version": "3.9.6"
  }
 },
 "nbformat": 4,
 "nbformat_minor": 5
}
